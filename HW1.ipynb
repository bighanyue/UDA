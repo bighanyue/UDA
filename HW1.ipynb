{
 "cells": [
  {
   "cell_type": "markdown",
   "metadata": {},
   "source": [
    "# Unstructured Data Analytics HW1\n",
    "\n",
    "Name:Hailey Han\n",
    "\n",
    "Andrew ID:yuehan\n",
    "\n",
    "Collaborators (if none, say \"none\"; do *not* leave this blank):None\n",
    "\n",
    "Reminder: you should not be sharing code."
   ]
  },
  {
   "cell_type": "markdown",
   "metadata": {},
   "source": [
    "**Reminder:** As stated in Lecture 1, homework assignments this semester will be submitted as PDFs and, in particular, we will not be re-running your code. Please make sure that you have run all your code cells so that the code cell outputs are actually displayed. To save your Jupyter notebook as a PDF, we recommend simply using your browser's print functionality and using that to print/save the notebook as a PDF."
   ]
  },
  {
   "cell_type": "markdown",
   "metadata": {},
   "source": [
    "**Warning: make sure your compute environment is set up first.** This homework assignment assumes that you have already installed Anaconda Python 3 and spaCy. Instructions for installing these are part of the tutorial [here](https://www.andrew.cmu.edu/user/georgech/95-865/Anaconda,%20Jupyter,%20and%20spaCy%20setup%20tutorial.pdf)."
   ]
  },
  {
   "cell_type": "markdown",
   "metadata": {},
   "source": [
    "### Instructions\n",
    "1. Fill in your name, Andrew ID, and collaborators above.\n",
    "2. Fill in the code/text blocks to answer each question.\n",
    "3. Do *not* change any of the existing code provided.\n",
    "4. Run the entire notebook *before* submitting it (as a PDF, as stated above). Again, we will *not* be re-running your code."
   ]
  },
  {
   "cell_type": "markdown",
   "metadata": {},
   "source": [
    "### [Problem 1] Basic Text Analysis [45 pts]\n",
    "\n",
    "This problem involves a mix of Python review (loops, conditionals, counters/dictionaries, sorting) and learning to work with a sizable collection of text data.\n",
    "\n",
    "You will be looking at a phenomenon of \"natural languages\" (i.e., human languages, such as English) called *Zipf's law*, which relates how frequently a word occurs in a language to its \"rank\" (the word with rank 1 is the most frequently occurring word, the word with rank 2 is the second most frequently occurring word, etc). Roughly speaking, the word with rank 1 appears twice as likely as the word with rank 2, and the three times as likely as the word with rank 3, and so forth. (Some details on Zipf's law can be found on [Wikipedia](https://en.wikipedia.org/wiki/Zipf%27s_law).) In this problem, you are going to check whether Zipf's law holds for a real dataset of text documents.\n",
    "\n",
    "The dataset we look at is a collection of the 100 most popular books downloaded from the [Gutenburg Project](https://www.gutenberg.org/browse/scores/top). These 100 books form the corpus that we consider for this problem. Each file contains the text of a book. We will read in all 100 books.\n",
    "\n",
    "Hint: To list all files that match a certain pattern, you can use the `glob` package. Here's an example usage:\n",
    "\n",
    "```python\n",
    "import glob\n",
    "print(glob.glob('./HW1_Dataset/*.txt'))\n",
    "```\n",
    "\n",
    "**(a) Warm-up/basic Python review [15 pts across subparts].** This part serves as a warm-up, getting you familiar with the kind of code we will be writing in this class. Note that throughout part (a), your code should **not** be using spaCy.\n",
    "\n",
    "**Subpart i [5 pts].** Write a loop that iterates through all 100 books; for each book, print out its corresponding file name and also how long the book is in terms of string length (meaning that if we load in the book as a string, we compute the length of the string using the built-in Python function `len`; this is just counting the number of characters).\n",
    "\n",
    "**Please do not actually print out the contents of each book since many of the books are extremely long, and by printing out all the books' contents, you'll end up creating a Jupyter notebook that has a massive file size (and when you save it as a PDF, the PDF will have a crazy number of pages).**\n",
    "\n",
    "Hint: When debugging your code, you may want to first make sure your code runs on a few of the books rather than all 100 (for example, you can start by only having 3 of the text files in `HW1_Dataset`). Once you're confident that your solution is correct on a few text files, then run on all of them! This is a standard approach to debugging code that is meant to handle large datasets.\n",
    "\n",
    "Your output should look like (although there should be 100 books rather than 3 as shown below; also, the ordering of the books might be different on your machine):\n",
    "\n",
    "```\n",
    "./HW1_Dataset/War and Peace by graf Leo Tolstoy (251).txt 3227580\n",
    "./HW1_Dataset/Democracy in America — Volume 1 by Alexis de Tocqueville (147).txt 1148435\n",
    "./HW1_Dataset/Frankenstein; Or, The Modern Prometheus by Mary Wollstonecraft Shelley (501).txt 441034\n",
    "```"
   ]
  },
  {
   "cell_type": "code",
   "execution_count": 1,
   "metadata": {},
   "outputs": [],
   "source": [
    "import glob\n",
    "#print(glob.glob('./HW1_Dataset/*.txt'))"
   ]
  },
  {
   "cell_type": "code",
   "execution_count": 2,
   "metadata": {},
   "outputs": [
    {
     "name": "stdout",
     "output_type": "stream",
     "text": [
      "./HW1_Dataset/War and Peace by graf Leo Tolstoy (251).txt 3227580\n",
      "./HW1_Dataset/Democracy in America — Volume 1 by Alexis de Tocqueville (147).txt 1148435\n",
      "./HW1_Dataset/Frankenstein; Or, The Modern Prometheus by Mary Wollstonecraft Shelley (501).txt 441034\n",
      "./HW1_Dataset/The King James Version of the Bible (132).txt 4351846\n",
      "./HW1_Dataset/Et dukkehjem. English by Henrik Ibsen (557).txt 161241\n",
      "./HW1_Dataset/Outpost in the Wilderness_ Fort Wayne, 1706-1828 by Charles Poinsatte (161).txt 363234\n",
      "./HW1_Dataset/The Romance of Lust_ A Classic Victorian erotic novel by Anonymous (294).txt 1051148\n",
      "./HW1_Dataset/The Odyssey by Homer (124).txt 697404\n",
      "./HW1_Dataset/A History of Spanish Literature by James Fitzmaurice-Kelly (109).txt 765918\n",
      "./HW1_Dataset/The Philosophy of Spiritual Activity by Rudolf Steiner (144).txt 545031\n",
      "./HW1_Dataset/My Fifteen Lost Years by Florence Elizabeth Maybrick (499).txt 383694\n",
      "./HW1_Dataset/Prestuplenie i nakazanie. English by Fyodor Dostoyevsky (160).txt 1154508\n",
      "./HW1_Dataset/The History of the Peloponnesian War by Thucydides (122).txt 1200021\n",
      "./HW1_Dataset/Gulliver's Travels into Several Remote Nations of the World by Jonathan Swift (136).txt 600105\n",
      "./HW1_Dataset/The Peddler Spy by W. J. Hamilton (356).txt 197390\n",
      "./HW1_Dataset/Dubliners by James Joyce (219).txt 389199\n",
      "./HW1_Dataset/The Hound of the Baskervilles by Arthur Conan Doyle (223).txt 339188\n",
      "./HW1_Dataset/The Boy Fortune Hunters in China by L. Frank  Baum (215).txt 324452\n",
      "./HW1_Dataset/Leviathan by Thomas Hobbes (417).txt 1231784\n",
      "./HW1_Dataset/The Awakening, and Selected Short Stories by Kate Chopin (192).txt 378936\n",
      "./HW1_Dataset/The Interesting Narrative of the Life of Olaudah Equiano, Or Gustavus Vassa, The African by Equiano (114).txt 471165\n",
      "./HW1_Dataset/Through the Looking-Glass by Lewis Carroll (134).txt 181667\n",
      "./HW1_Dataset/Il Principe. English by Niccolò Machiavelli (428) (Unicode Encoding Conflict).txt 300788\n",
      "./HW1_Dataset/On Liberty by John Stuart Mill (116).txt 325922\n",
      "./HW1_Dataset/The Law of Storms by John Wilson Ross (110).txt 65264\n",
      "./HW1_Dataset/The Strange Case of Dr. Jekyll and Mr. Hyde by Robert Louis Stevenson (170).txt 159542\n",
      "./HW1_Dataset/Liberalism by L. T.  Hobhouse (119).txt 305345\n",
      "./HW1_Dataset/Semmering 1912 by Peter Altenberg (221).txt 264946\n",
      "./HW1_Dataset/Les Misérables by Victor Hugo (165) (Unicode Encoding Conflict).txt 3254333\n",
      "./HW1_Dataset/The Count of Monte Cristo, Illustrated by Alexandre Dumas (160).txt 2643849\n",
      "./HW1_Dataset/Alice in Wonderland by Lewis Carroll and Alice Gerstenberg (126).txt 104079\n",
      "./HW1_Dataset/Common Sense by Thomas Paine (297).txt 145353\n",
      "./HW1_Dataset/Narrative of the Captivity and Restoration of Mrs. Mary Rowlandson by Mary White Rowlandson (222).txt 123784\n",
      "./HW1_Dataset/The Divine Comedy by Dante, Illustrated by Dante Alighieri (119).txt 2161\n",
      "./HW1_Dataset/The Importance of Being Earnest_ A Trivial Comedy for Serious People by Oscar Wilde (454).txt 138887\n",
      "./HW1_Dataset/Walden, and On The Duty Of Civil Disobedience by Henry David Thoreau (180).txt 656207\n",
      "./HW1_Dataset/The Yellow Wallpaper by Charlotte Perkins Gilman (462).txt 50841\n",
      "./HW1_Dataset/Jane Eyre_ An Autobiography by Charlotte Brontë (290) (Unicode Encoding Conflict).txt 1049267\n",
      "./HW1_Dataset/The Kama Sutra of Vatsyayana by Vatsyayana (172).txt 351664\n",
      "./HW1_Dataset/Sense and Sensibility by Jane Austen (177).txt 693095\n",
      "./HW1_Dataset/Adventures of Huckleberry Finn by Mark Twain (401).txt 593962\n",
      "./HW1_Dataset/Heart of Darkness by Joseph Conrad (213).txt 229835\n",
      "./HW1_Dataset/The Republic by Plato (246).txt 1214387\n",
      "./HW1_Dataset/The Complete Works of William Shakespeare by William Shakespeare (132).txt 5465100\n",
      "./HW1_Dataset/The Picture of Dorian Gray by Oscar Wilde (282).txt 453169\n",
      "./HW1_Dataset/The Works of Edgar Allan Poe — Volume 2 by Edgar Allan Poe (137).txt 569966\n",
      "./HW1_Dataset/Ulysses by James Joyce (282).txt 1534140\n",
      "./HW1_Dataset/The Federalist Papers by Alexander Hamilton and John Jay and James Madison (116).txt 1167141\n",
      "./HW1_Dataset/Leaves of Grass by Walt Whitman (164).txt 757361\n",
      "./HW1_Dataset/Narrative of the Life of Frederick Douglass, an American Slave by Frederick Douglass (243).txt 244263\n",
      "./HW1_Dataset/A Study in Scarlet by Arthur Conan Doyle (163).txt 262340\n",
      "./HW1_Dataset/Beowulf An Anglo-Saxon Epic Poem (403).txt 292953\n",
      "./HW1_Dataset/The Wendigo by Algernon Blackwood (174).txt 127464\n",
      "./HW1_Dataset/The Scarlet Letter by Nathaniel Hawthorne (211).txt 506975\n",
      "./HW1_Dataset/Persuasion by Jane Austen (2234).txt 486251\n",
      "./HW1_Dataset/The Time Machine by H. G.  Wells (137).txt 198281\n",
      "./HW1_Dataset/The Guardsman by Homer Greene (175).txt 412900\n",
      "./HW1_Dataset/Carmilla by Joseph Sheridan Le Fanu (135).txt 176408\n",
      "./HW1_Dataset/Uncle Tom's Cabin by Harriet Beecher Stowe (108).txt 1025501\n",
      "./HW1_Dataset/A Tale of Two Cities by Charles Dickens (425).txt 776702\n",
      "./HW1_Dataset/Moby Dick; Or, The Whale by Herman Melville (413).txt 1238569\n",
      "./HW1_Dataset/Songs of Innocence, and Songs of Experience by William Blake (166).txt 51724\n",
      "./HW1_Dataset/Dracula by Bram Stoker (461).txt 867141\n",
      "./HW1_Dataset/Emma by Jane Austen (166).txt 902390\n",
      "./HW1_Dataset/Wuthering Heights by Emily Brontë (179) (Unicode Encoding Conflict).txt 669150\n",
      "./HW1_Dataset/Autobiography of Benjamin Franklin by Benjamin Franklin (247).txt 458600\n",
      "./HW1_Dataset/The Strange Case of Dr. Jekyll and Mr. Hyde by Robert Louis Stevenson (158).txt 158048\n",
      "./HW1_Dataset/Anne of Green Gables by L. M.  Montgomery (114).txt 580635\n",
      "./HW1_Dataset/The Souls of Black Folk by W. E. B.  Du Bois (172).txt 421336\n",
      "./HW1_Dataset/The Confessions of St. Augustine by Bishop of Hippo Saint Augustine (157).txt 622405\n",
      "./HW1_Dataset/Candide by Voltaire (180).txt 224924\n",
      "./HW1_Dataset/The Legend of Sleepy Hollow by Washington Irving (399).txt 89237\n",
      "./HW1_Dataset/Alice's Adventures in Wonderland by Lewis Carroll (564).txt 163817\n",
      "./HW1_Dataset/Peter Pan by J. M.  Barrie (274).txt 278194\n",
      "./HW1_Dataset/The Wonderful Wizard of Oz by L. Frank  Baum (150).txt 227654\n",
      "./HW1_Dataset/The Innocents Abroad by Mark Twain (108).txt 1126278\n",
      "./HW1_Dataset/The Turn of the Screw by Henry James (185).txt 248089\n",
      "./HW1_Dataset/The Adventures of Tom Sawyer by Mark Twain (371).txt 412712\n",
      "./HW1_Dataset/The Tragedy of Romeo and Juliet by William Shakespeare (131).txt 174128\n",
      "./HW1_Dataset/A Modest Proposal by Jonathan Swift (233).txt 38966\n",
      "./HW1_Dataset/A Christmas Carol in Prose; Being a Ghost Story of Christmas by Charles Dickens (265).txt 177758\n",
      "./HW1_Dataset/Essays of Michel de Montaigne — Complete by Michel de Montaigne (205).txt 3033575\n",
      "./HW1_Dataset/The Adventures of Sherlock Holmes by Arthur Conan Doyle (447).txt 581864\n",
      "./HW1_Dataset/Robert Greene by Robert Greene (126).txt 760655\n",
      "./HW1_Dataset/Essays by Ralph Waldo Emerson by Ralph Waldo Emerson (239).txt 557197\n",
      "./HW1_Dataset/The Boy Fortune Hunters in the South Seas by L. Frank  Baum (150).txt 266166\n",
      "./HW1_Dataset/Pride and Prejudice by Jane Austen (1003).txt 704192\n",
      "./HW1_Dataset/My Secret Life, Volumes I. to III. by Anonymous (157).txt 1378627\n",
      "./HW1_Dataset/The Mysterious Affair at Styles by Agatha Christie (115).txt 340770\n",
      "./HW1_Dataset/Treasure Island by Robert Louis Stevenson (236).txt 383675\n",
      "./HW1_Dataset/Hedda Gabler by Henrik Ibsen (123).txt 193875\n",
      "./HW1_Dataset/Metamorphosis by Franz Kafka (483).txt 139056\n",
      "./HW1_Dataset/Great Expectations by Charles Dickens (293).txt 1013450\n",
      "./HW1_Dataset/The Life and Adventures of Robinson Crusoe by Daniel Defoe (126).txt 642909\n",
      "./HW1_Dataset/The Iliad by Homer (256).txt 1175588\n",
      "./HW1_Dataset/The Tragical History of Doctor Faustus by Christopher Marlowe (144).txt 143736\n",
      "./HW1_Dataset/Grimms' Fairy Tales by Jacob Grimm and Wilhelm Grimm (429).txt 540241\n",
      "./HW1_Dataset/Beyond Good and Evil by Friedrich Wilhelm Nietzsche (120).txt 402273\n",
      "./HW1_Dataset/Siddhartha by Hermann Hesse (216).txt 236855\n",
      "./HW1_Dataset/The Faery Queen and Her Knights by Alfred John Church (177).txt 447320\n"
     ]
    }
   ],
   "source": [
    "book_list = glob.glob('./HW1_Dataset/*.txt')\n",
    "for book in book_list:\n",
    "    with open(book, 'r', encoding = 'utf-8') as book_file:\n",
    "        content = book_file.read()\n",
    "        print(book, len(content))"
   ]
  },
  {
   "cell_type": "markdown",
   "metadata": {},
   "source": [
    "**Subpart ii [5 pts].** Copy and paste your code from **subpart i** into the code cell below. Then in the code cell below, modify the code so that it prints out the top 15 longest books (in terms of raw string length, which is what you had already computed). In particular, please write your code so that the printout is of the following format:\n",
    "\n",
    "```\n",
    "1. <number of characters in longest text file> <filename of longest text file>\n",
    "2. <number of characters in 2nd longest text file> <filename of 2nd longest text file>\n",
    "...\n",
    "15. <number of characters in 15th longest text file> <filename of 15th longest text file>\n",
    "```\n",
    "\n",
    "Note: only print out information for the top 15 books in the format above; please do not repeat printing what we asked you to print in **subpart i**."
   ]
  },
  {
   "cell_type": "code",
   "execution_count": 3,
   "metadata": {},
   "outputs": [
    {
     "name": "stdout",
     "output_type": "stream",
     "text": [
      "1.5465100./HW1_Dataset/The Complete Works of William Shakespeare by William Shakespeare (132).txt\n",
      "2.4351846./HW1_Dataset/The King James Version of the Bible (132).txt\n",
      "3.3254333./HW1_Dataset/Les Misérables by Victor Hugo (165) (Unicode Encoding Conflict).txt\n",
      "4.3227580./HW1_Dataset/War and Peace by graf Leo Tolstoy (251).txt\n",
      "5.3033575./HW1_Dataset/Essays of Michel de Montaigne — Complete by Michel de Montaigne (205).txt\n",
      "6.2643849./HW1_Dataset/The Count of Monte Cristo, Illustrated by Alexandre Dumas (160).txt\n",
      "7.1534140./HW1_Dataset/Ulysses by James Joyce (282).txt\n",
      "8.1378627./HW1_Dataset/My Secret Life, Volumes I. to III. by Anonymous (157).txt\n",
      "9.1238569./HW1_Dataset/Moby Dick; Or, The Whale by Herman Melville (413).txt\n",
      "10.1231784./HW1_Dataset/Leviathan by Thomas Hobbes (417).txt\n",
      "11.1214387./HW1_Dataset/The Republic by Plato (246).txt\n",
      "12.1200021./HW1_Dataset/The History of the Peloponnesian War by Thucydides (122).txt\n",
      "13.1175588./HW1_Dataset/The Iliad by Homer (256).txt\n",
      "14.1167141./HW1_Dataset/The Federalist Papers by Alexander Hamilton and John Jay and James Madison (116).txt\n",
      "15.1154508./HW1_Dataset/Prestuplenie i nakazanie. English by Fyodor Dostoyevsky (160).txt\n"
     ]
    }
   ],
   "source": [
    "list_book_name = []\n",
    "for book in book_list:\n",
    "    with open(book, 'r', encoding = 'utf-8') as book_file:\n",
    "        content = book_file.read()\n",
    "        list_book_name.append((len(content), book))\n",
    "\n",
    "list_book_name.sort(key = lambda x: x[0], reverse = True)\n",
    "\n",
    "#print(list_book_name)\n",
    "for i in range (15):\n",
    "    print(f'{i+1}.{list_book_name[i][0]}{list_book_name[i][1]}')\n"
   ]
  },
  {
   "cell_type": "markdown",
   "metadata": {},
   "source": [
    "**Subpart iii [5 pts].** You should find that some of the books are quite long. Processing very long books will be problematic with spaCy, so we will want to chop up long books into pieces. Note that later on in the course, we shall see that chopping up large amounts of data into small pieces or \"batches\" is in fact quite common in machine learning since for massive datasets, we often cannot store them in their entirety on a CPU or GPU for processing all at once.\n",
    "\n",
    "As a toy example, suppose that a book's text is `'cat dog shark spam eggs'` and we want to split it up into batches where each batch has at most 3 words. Then we could split up the book's text into two batches/pieces: `'cat dog shark'` and `'spam eggs'`.\n",
    "\n",
    "We have provided code for you to do this below."
   ]
  },
  {
   "cell_type": "code",
   "execution_count": 4,
   "metadata": {},
   "outputs": [
    {
     "name": "stdout",
     "output_type": "stream",
     "text": [
      "['cat dog shark', 'spam eggs']\n"
     ]
    }
   ],
   "source": [
    "import numpy as np\n",
    "\n",
    "def split_into_batches(book_text, max_num_words_per_batch):\n",
    "    words_split_on_spaces = book_text.split(' ')\n",
    "    num_book_pieces = int(np.ceil(len(words_split_on_spaces) / max_num_words_per_batch))\n",
    "    batches = []\n",
    "    for piece_idx in range(num_book_pieces):\n",
    "        start_idx = piece_idx * max_num_words_per_batch\n",
    "        end_idx = (piece_idx + 1) * max_num_words_per_batch\n",
    "        if end_idx > len(words_split_on_spaces):\n",
    "            end_idx = len(words_split_on_spaces)\n",
    "        book_piece = ' '.join(words_split_on_spaces[start_idx:end_idx])\n",
    "        batches.append(book_piece)\n",
    "    return batches\n",
    "\n",
    "print(split_into_batches('cat dog shark spam eggs', 3))"
   ]
  },
  {
   "cell_type": "markdown",
   "metadata": {},
   "source": [
    "Now write a loop that goes through all 100 books again. However, for each book, split it up into batches so that each batch has at most 10000 words. In this case, how many batches are there total across all 100 books? Please write code that computes this number of batches. Your code should print out the following (with the correct total number of batches):\n",
    "\n",
    "```\n",
    "Total number of batches: <total number of batches across all 100 books>\n",
    "```"
   ]
  },
  {
   "cell_type": "code",
   "execution_count": 5,
   "metadata": {},
   "outputs": [
    {
     "name": "stdout",
     "output_type": "stream",
     "text": [
      "Total number of batches: 1246\n"
     ]
    }
   ],
   "source": [
    "total_batches = 0\n",
    "for book in book_list:\n",
    "    with open(book, 'r', encoding = 'utf-8') as book_file:\n",
    "        content = book_file.read()\n",
    "    \n",
    "    batches_list = split_into_batches(content,10000)\n",
    "    #print(book, len(content),len(batches_list))\n",
    "    total_batches += len(batches_list)\n",
    "    \n",
    "    \n",
    "print('Total number of batches:', total_batches)"
   ]
  },
  {
   "cell_type": "markdown",
   "metadata": {},
   "source": [
    "**(b) [10 pts]** Now we will finally use spaCy. Note that for this problem, you don't actually need `spaCy`'s named entity recognition or grammatical parsing. Turning these elements off when you instantiate the `nlp` object can substantially speed up your code. To make sure these are off when instantiating the `nlp` object, call: \n",
    "\n",
    "```python\n",
    "nlp = spacy.load('en_core_web_sm', disable=['ner', 'parser'])\n",
    "```\n",
    "\n",
    "**Throughout this problem, do not remove stopwords.**\n",
    "\n",
    "Build a term frequency (raw counts) table that is for all 100 books. Specifically, building on your solution to part (a)-subpart iii, read in a single book at a time and for each book, do the following:\n",
    "\n",
    "  1. Split it up into batches where each batch has at most 10000 words.\n",
    "  2. For each batch:\n",
    "    1. Process the batch by separating and lemmatizing the words\n",
    "    2. Count the number of times each lemma appears and add these to the frequency table. For simplicity, **do not convert lemmas to lowercase**. (Note that we use raw counts as the \"frequency\"--do not do any division.) Also, as we explain below, we will only count lemmas that are alphabetic.\n",
    "\n",
    "Note that just as we had said in part (a): do **not** print out the complete contents of every book since doing so will result in a Jupyter notebook file that is massive.\n",
    "\n",
    "After looping through all 100 books, you should have the term frequency table for the entire corpus (importantly, the frequency table should not just be for a single book; it should be for all 100 books). Sort the table and print the top 50 most frequent words, along with their frequencies and ranks. Don't worry about ties (for example, if multiple things have the same frequency, it's fine if your solution breaks ties arbitrarily in the sorting).\n",
    "\n",
    "Note: When counting the lemmas, only include lemmas that consist of alphabetic letters (a-z and A-Z). You can do this with what's called a *regular expression*. For example, to check whether the words \"will.i.am\" or \"Tesla\" are alphabetic, you would do the following:\n",
    "\n",
    "```python\n",
    "import re  # regular expression package\n",
    "if re.match('[a-zA-Z]+$', 'will.i.am'):\n",
    "    print('will.i.am consists only of alphabetic letters!')\n",
    "if re.match('[a-zA-Z]+$', 'Tesla'):\n",
    "    print('tesla consists only of alphabetic letters!')\n",
    "```"
   ]
  },
  {
   "cell_type": "code",
   "execution_count": 6,
   "metadata": {},
   "outputs": [
    {
     "name": "stdout",
     "output_type": "stream",
     "text": [
      "Rank 1: Lemma: the, Frequency: 702434\n",
      "Rank 2: Lemma: be, Frequency: 436048\n",
      "Rank 3: Lemma: and, Frequency: 435424\n",
      "Rank 4: Lemma: of, Frequency: 386347\n",
      "Rank 5: Lemma: to, Frequency: 324420\n",
      "Rank 6: Lemma: I, Frequency: 255123\n",
      "Rank 7: Lemma: a, Frequency: 233287\n",
      "Rank 8: Lemma: in, Frequency: 204241\n",
      "Rank 9: Lemma: he, Frequency: 193634\n",
      "Rank 10: Lemma: that, Frequency: 159010\n",
      "Rank 11: Lemma: have, Frequency: 158144\n",
      "Rank 12: Lemma: it, Frequency: 135425\n",
      "Rank 13: Lemma: not, Frequency: 112037\n",
      "Rank 14: Lemma: his, Frequency: 108538\n",
      "Rank 15: Lemma: you, Frequency: 102592\n",
      "Rank 16: Lemma: with, Frequency: 101227\n",
      "Rank 17: Lemma: they, Frequency: 96822\n",
      "Rank 18: Lemma: for, Frequency: 95302\n",
      "Rank 19: Lemma: as, Frequency: 90697\n",
      "Rank 20: Lemma: she, Frequency: 78229\n",
      "Rank 21: Lemma: but, Frequency: 75595\n",
      "Rank 22: Lemma: my, Frequency: 74017\n",
      "Rank 23: Lemma: do, Frequency: 68759\n",
      "Rank 24: Lemma: at, Frequency: 64950\n",
      "Rank 25: Lemma: on, Frequency: 62850\n",
      "Rank 26: Lemma: by, Frequency: 61504\n",
      "Rank 27: Lemma: this, Frequency: 61246\n",
      "Rank 28: Lemma: we, Frequency: 60305\n",
      "Rank 29: Lemma: which, Frequency: 58866\n",
      "Rank 30: Lemma: all, Frequency: 58711\n",
      "Rank 31: Lemma: say, Frequency: 58326\n",
      "Rank 32: Lemma: from, Frequency: 50095\n",
      "Rank 33: Lemma: so, Frequency: 47970\n",
      "Rank 34: Lemma: or, Frequency: 47775\n",
      "Rank 35: Lemma: her, Frequency: 43225\n",
      "Rank 36: Lemma: one, Frequency: 41174\n",
      "Rank 37: Lemma: will, Frequency: 40871\n",
      "Rank 38: Lemma: man, Frequency: 39633\n",
      "Rank 39: Lemma: their, Frequency: 38416\n",
      "Rank 40: Lemma: no, Frequency: 38408\n",
      "Rank 41: Lemma: what, Frequency: 37851\n",
      "Rank 42: Lemma: there, Frequency: 37212\n",
      "Rank 43: Lemma: if, Frequency: 34895\n",
      "Rank 44: Lemma: go, Frequency: 33862\n",
      "Rank 45: Lemma: when, Frequency: 33587\n",
      "Rank 46: Lemma: an, Frequency: 32526\n",
      "Rank 47: Lemma: come, Frequency: 32280\n",
      "Rank 48: Lemma: see, Frequency: 32031\n",
      "Rank 49: Lemma: would, Frequency: 31276\n",
      "Rank 50: Lemma: who, Frequency: 30934\n"
     ]
    }
   ],
   "source": [
    "import re\n",
    "import spacy\n",
    "\n",
    "nlp = spacy.load('en_core_web_sm', disable=['ner', 'parser'])\n",
    "\n",
    "pattern = re.compile('[a-zA-Z]+')\n",
    "\n",
    "frequency = {}\n",
    "\n",
    "for book in book_list:\n",
    "    with open(book, 'r', encoding = 'utf-8') as book_file:\n",
    "        content = book_file.read()\n",
    "        \n",
    "    batches_list = split_into_batches(content,10000)\n",
    "    #print(book)\n",
    "    for each_batch in batches_list:\n",
    "        doc = nlp(each_batch)\n",
    "        for token in doc:\n",
    "            lemma = token.lemma_\n",
    "            #pattern.match(lemma):\n",
    "            if re.match('[a-zA-Z]+$', lemma):\n",
    "                if lemma in frequency:\n",
    "                    frequency[lemma] += 1\n",
    "                else:\n",
    "                    frequency[lemma] = 1\n",
    "            \n",
    "                \n",
    "\n",
    "sort_freq = sorted(frequency.items(), key=lambda x: x[1], reverse=True)\n",
    "\n",
    "for i in range(50):\n",
    "    print(f\"Rank {i+1}: Lemma: {sort_freq[i][0]}, Frequency: {sort_freq[i][1]}\")"
   ]
  },
  {
   "cell_type": "markdown",
   "metadata": {},
   "source": [
    "**(c) [10 pts]** Visualize the frequency table by plotting a **raw scatter plot** (put frequency as the y-axis and rank as the x-axis), and a **log-log plot** (use logarithmic scales on both the x- and y- axes). Note that this should be for all words and not only the top 50. As before, for the ranks, do not worry about ties, i.e., break ties arbitrarily."
   ]
  },
  {
   "cell_type": "code",
   "execution_count": 7,
   "metadata": {},
   "outputs": [
    {
     "data": {
      "image/png": "[encoded data removed]",
      "text/plain": [
       "<Figure size 432x288 with 1 Axes>"
      ]
     },
     "metadata": {
      "needs_background": "light"
     },
     "output_type": "display_data"
    }
   ],
   "source": [
    "import matplotlib.pyplot as plt\n",
    "\n",
    "x_ranks = list(range(1, len(sort_freq) + 1))\n",
    "y_frequencies = [freq for lemma, freq in sort_freq]\n",
    "\n",
    "#plt.figure(figsize=(10, 6))\n",
    "plt.scatter(x_ranks, y_frequencies, color='royalblue')\n",
    "plt.title('Frequency Raw Scatter Plot')\n",
    "plt.xlabel('Rank')\n",
    "plt.ylabel('Frequency')\n",
    "plt.grid(True)\n",
    "plt.show()"
   ]
  },
  {
   "cell_type": "code",
   "execution_count": 8,
   "metadata": {},
   "outputs": [
    {
     "data": {
      "image/png": "[encoded data removed]",
      "text/plain": [
       "<Figure size 432x288 with 1 Axes>"
      ]
     },
     "metadata": {
      "needs_background": "light"
     },
     "output_type": "display_data"
    }
   ],
   "source": [
    "x_ranks = list(range(1, len(sort_freq) + 1))\n",
    "y_frequencies = [freq for _, freq in sort_freq]\n",
    "\n",
    "#plt.figure(figsize=(10, 6))\n",
    "plt.loglog(x_ranks, y_frequencies, marker='o', color='pink')\n",
    "plt.title('Frequency vs Rank (Log-Log)')\n",
    "plt.xlabel('Rank (log scale)')\n",
    "plt.ylabel('Frequency (log scale)')\n",
    "plt.grid(True)\n",
    "plt.show()"
   ]
  },
  {
   "cell_type": "markdown",
   "metadata": {},
   "source": [
    "**(d) [10 pts across subparts]** Let's now try to make sense of the very last plot in part **(c)**. Zipf's law states that term frequency is governed by a power law, i.e. the relationship between term frequency and rank can be approximated by $f(r) = cr^{-1}$, where $f(r)$ is the frequency of the term at rank $r$, $r$ is the rank of a term, and $c$ is a constant that is approximately 0.1*(corpus size) for English.\n",
    "\n",
    "Please answer the following questions:\n",
    "\n",
    "**Subpart i [2 pts].** What do you observe in the log-log plot above? Is this consist with the power law?"
   ]
  },
  {
   "cell_type": "markdown",
   "metadata": {},
   "source": [
    "Your text answer (for this question, your answer is *not* code): \n",
    "\n",
    "The line is almost a straight line showing the linear relationship between log(rank) and log(frenquency). This is consist with the power law. Zipf's law can be presented by log(f) = log(c) - log (r), where frlog(rank) and log(freq) are linear with the coefficient of -1. And log(c) is the intercept where c is about 100000. All features are related to the loglog plot."
   ]
  },
  {
   "cell_type": "markdown",
   "metadata": {},
   "source": [
    "**Subpart ii [4 pts].** Think of the corpus as a (large) unigram bag of words. Following the analogy from lecture, imagine drawing a single word from this big bag (note that we are assuming that we've lemmatized the words and also filtered out non-alphabetic words; thus what remains in the bag are actually alphabetic lemmas). What is the probability of drawing one of the 4 most frequent alphabetic lemmas? What is the probability of drawing one of the 50 most frequent alphabetic lemmas? Answer these two questions using code rather than just entering in the final answers as numbers."
   ]
  },
  {
   "cell_type": "code",
   "execution_count": 9,
   "metadata": {},
   "outputs": [
    {
     "name": "stdout",
     "output_type": "stream",
     "text": [
      "Probability of drawing one of the 4 most frequent alphabetic lemmas: \n",
      "0.16223244412186055\n",
      "Probability of drawing one of the 50 most frequent alphabetic lemmas: \n",
      "0.48316939764081573\n"
     ]
    }
   ],
   "source": [
    "print('Probability of drawing one of the 4 most frequent alphabetic lemmas: ')\n",
    "sum_lemma = sum(frequency.values())\n",
    "#print(sum_lemma)\n",
    "\n",
    "lemma_4 = sum(freq for lemma, freq in sort_freq[:4])\n",
    "print(lemma_4/sum_lemma)\n",
    "#print(lemma_4)\n",
    "\n",
    "print('Probability of drawing one of the 50 most frequent alphabetic lemmas: ')\n",
    "lemma_50 = sum(freq for lemma, freq in sort_freq[:50])\n",
    "print(lemma_50/sum_lemma)\n"
   ]
  },
  {
   "cell_type": "markdown",
   "metadata": {},
   "source": [
    "**Subpart iii [4 pts].** What proportion of the alphabetic lemmas occur only once? What proportion of the alphabetic lemmas occur fewer than 10 times?"
   ]
  },
  {
   "cell_type": "code",
   "execution_count": 10,
   "metadata": {
    "scrolled": true
   },
   "outputs": [
    {
     "name": "stdout",
     "output_type": "stream",
     "text": [
      "Occur only once: \n",
      "0.44763641616409666\n",
      "Occur fewer than 10 times: \n",
      "0.7818153912823661\n"
     ]
    }
   ],
   "source": [
    "print(\"Occur only once: \")\n",
    "lemma_occur1 = sum (1 for occurance in frequency.values() if occurance == 1 )\n",
    "print(lemma_occur1/len(frequency))\n",
    "\n",
    "print(\"Occur fewer than 10 times: \")\n",
    "\n",
    "lemma_occur10 = sum (1 for occurance in frequency.values() if occurance < 10 )\n",
    "print(lemma_occur10/len(frequency))"
   ]
  },
  {
   "cell_type": "markdown",
   "metadata": {},
   "source": [
    "### [Problem 2] Entity Recognition and Pointwise Mutual Information (PMI) [50 pts]\n",
    "By using the entity recognition system in `spaCy`, let's identify named entities from newspaper articles. You'll be using Reuters corpus which contains more than ten thousand newspaper articles. To run the code below, you need to download the Reuters dataset. To do so, in a terminal/command line (recall that you can open a terminal from Jupyter's webpage that shows all the files, which by default is [http://localhost:8888/tree](http://localhost:8888/tree)), start up Python and enter:\n",
    "\n",
    "```python\n",
    "import nltk\n",
    "nltk.download('reuters')\n",
    "```\n",
    "\n",
    "Then proceed to the problem subparts below.\n",
    "\n",
    "Note that in this problem you will need named entity recognition but not grammatical parsing. Hence, you will want to instantiate the nlp object by calling:\n",
    "\n",
    "```python\n",
    "nlp = spacy.load('en_core_web_sm', disable=['parser'])\n",
    "```\n"
   ]
  },
  {
   "cell_type": "markdown",
   "metadata": {},
   "source": [
    "**(a) [15 pts]** Draw a bar chart in which one of the axes shows entity labels and the other shows the frequency of the corresponding label. Use the variables `reuters_nlp` and `label_counter` provided in the code below."
   ]
  },
  {
   "cell_type": "code",
   "execution_count": 11,
   "metadata": {
    "scrolled": false
   },
   "outputs": [
    {
     "name": "stderr",
     "output_type": "stream",
     "text": [
      "[nltk_data] Downloading package reuters to\n",
      "[nltk_data]     /usr/local/share/nltk_data...\n",
      "[nltk_data]   Package reuters is already up-to-date!\n",
      "/Users/hanyue/opt/anaconda3/lib/python3.8/site-packages/spacy/pipeline/lemmatizer.py:211: UserWarning: [W108] The rule-based lemmatizer did not find POS annotation for one or more tokens. Check that your pipeline includes components that assign token.pos, typically 'tagger'+'attribute_ruler' or 'morphologizer'.\n",
      "  warnings.warn(Warnings.W108)\n"
     ]
    },
    {
     "data": {
      "image/png": "[encoded data removed]",
      "text/plain": [
       "<Figure size 432x288 with 1 Axes>"
      ]
     },
     "metadata": {
      "needs_background": "light"
     },
     "output_type": "display_data"
    }
   ],
   "source": [
    "import nltk\n",
    "reuters = nltk.download('reuters')\n",
    "\n",
    "import matplotlib.pyplot as plt\n",
    "from collections import Counter\n",
    "from nltk.corpus import reuters\n",
    "import re\n",
    "import spacy\n",
    "nlp = spacy.load('en_core_web_sm', disable=['parser', 'tagger'])\n",
    "reuters_fileids = reuters.fileids()  # hint: when first debugging, consider looking at just the first few\n",
    "reuters_nlp = [nlp(re.sub('\\s+',' ', reuters.raw(i)).strip()) for i in reuters_fileids]\n",
    "label_counter = Counter()\n",
    "\n",
    "\n",
    "\n",
    "for doc in reuters_nlp: \n",
    "    for ent in doc.ents:\n",
    "        label_counter[ent.label_] += 1\n",
    "\n",
    "\n",
    "labels = list(label_counter.keys())\n",
    "frequencies = list(label_counter.values())\n",
    "\n",
    "\n",
    "#plt.figure(figsize=(10, 6))\n",
    "plt.bar(labels, frequencies, color='skyblue')\n",
    "plt.xlabel('Entity Labels')\n",
    "plt.ylabel('Frequency')\n",
    "plt.title('Entity Labels and Frequency')\n",
    "plt.xticks(rotation=45, ha='right')\n",
    "plt.tight_layout()\n",
    "plt.show()\n",
    "\n",
    "\n"
   ]
  },
  {
   "cell_type": "markdown",
   "metadata": {},
   "source": [
    "**(b) [15 pts]** Now list the top 10 most frequently occurring entities (entity text and the number of occurence) with label `ORG` (organization). Separately list the top 10 most frequently occurring entities with label `GPE` (geopolitical entity such as countries, cities, states) respectively. **In both cases, please convert the entity names to lowercase first before computing the top 10.**\n",
    "\n",
    "Here, when counting the (raw count) frequency, we need to count how many articles have an entity with the desired property. For every article, we add 1 if the article has the entity and 0 otherwise."
   ]
  },
  {
   "cell_type": "code",
   "execution_count": 12,
   "metadata": {},
   "outputs": [
    {
     "name": "stdout",
     "output_type": "stream",
     "text": [
      "Top 10 ORG entities:\n",
      "cts: 3939\n",
      "ec: 795\n",
      "fed: 587\n",
      "reuters: 503\n",
      "opec: 482\n",
      "revs: 441\n",
      "usda: 414\n",
      "bundesbank: 341\n",
      "treasury: 323\n",
      "the securities and exchange commission: 253\n",
      "\n",
      "\n",
      "\n",
      "Top 10 ORG entities:\n",
      "u.s.: 3878\n",
      "japan: 1441\n",
      "avg: 674\n",
      "the united states: 592\n",
      "brazil: 480\n",
      "canada: 422\n",
      "u.k.: 419\n",
      "paris: 348\n",
      "washington: 324\n",
      "china: 324\n"
     ]
    }
   ],
   "source": [
    "ORG_entity = {}\n",
    "GPE_entity = {}\n",
    "\n",
    "for doc in reuters_nlp: \n",
    "    for ent in doc.ents:\n",
    "        if ent.label_ == 'ORG':\n",
    "            ent_text = ent.text.lower()\n",
    "            ORG_entity[ent_text] = ORG_entity.get(ent_text, 0) + 1\n",
    "            \n",
    "        if ent.label_ == 'GPE':\n",
    "            ent_text = ent.text.lower()\n",
    "            GPE_entity[ent_text] = GPE_entity.get(ent_text, 0) + 1\n",
    "            \n",
    "            \n",
    "sort_ORG = sorted(ORG_entity.items(), key = lambda x: x[1], reverse = True)\n",
    "sort_GPE = sorted(GPE_entity.items(), key = lambda x: x[1], reverse = True)\n",
    "\n",
    "top10_ORG = sort_ORG[:10]\n",
    "top10_GPE = sort_GPE[:10]\n",
    "\n",
    "print('Top 10 ORG entities:')\n",
    "for entity, freq in top10_ORG:\n",
    "    print(f\"{entity}: {freq}\")\n",
    "\n",
    "print('\\n\\n')\n",
    "print('Top 10 ORG entities:')\n",
    "for entity, freq in top10_GPE:\n",
    "    print(f\"{entity}: {freq}\")"
   ]
  },
  {
   "cell_type": "markdown",
   "metadata": {},
   "source": [
    "**(c) [20 pts]** Give the top 50 `GPE` (countries, cities, states) entities that have the highest Pointwise Mutual Information (PMI) values with regard to the `ORG` (organization) entity **'opec'** (your list of this top 50 should be ranked in decreasing PMI value). Did you find any unexpected results? If so, why do you think it happened? If you found some of the results to be unsurprisingly, how come? **Just like in the previous part, please convert entity names to lowercase in your analysis.**\n",
    "\n",
    "Hint 1: As in lecture, when computing PMI, we will compute probabilities by counting the number of documents where entities occur or co-occur.  For example, $P('opec') = \\frac{number \\ \\ of \\ \\ documents \\ \\ containing \\ \\ 'opec'}{number \\ \\ of \\ \\ documents}$.  \n",
    "\n",
    "Hint 2: To compute this ranking, you do not have to compute the full PMI equation."
   ]
  },
  {
   "cell_type": "code",
   "execution_count": 13,
   "metadata": {},
   "outputs": [
    {
     "name": "stdout",
     "output_type": "stream",
     "text": [
      "u.s.\n",
      "ecuador\n",
      "saudi arabia\n",
      "kuwait\n",
      "venezuela\n",
      "indonesia\n",
      "iraq\n",
      "japan\n",
      "qatar\n",
      "vienna\n",
      "nigeria\n",
      "saudi arabia's\n",
      "iran\n",
      "norway\n",
      "u.k.\n",
      "the united arab emirates\n",
      "balao\n",
      "west germany\n",
      "egypt\n",
      "malaysia\n",
      "the united states\n",
      "canada\n",
      "opec\n",
      "mexico\n",
      "britain\n",
      "tokyo\n",
      "france\n",
      "colombia\n",
      "libya\n",
      "dubai\n",
      "riyadh\n",
      "algeria\n",
      "turkey\n",
      "brazil\n",
      "london\n",
      "singapore\n",
      "new york\n",
      "the soviet union\n",
      "caracas\n",
      "alaska\n",
      "kuwaiti\n",
      "dunham\n",
      "quito\n",
      "jakarta\n",
      "oman\n",
      "the neutral zone\n",
      "washington\n",
      "bahrain\n",
      "sweden\n",
      "kahan\n"
     ]
    }
   ],
   "source": [
    "# for PMI: log(P(GPE&'opec')/[p(GPE)*p('opec')])\n",
    "# simplify: log(P(GPE&'opec')/p(GPE)\n",
    "# prob of GPE &'opec' and that specific 'GPE', amount of doc is the same, counting times(GPE&'opec') and times(GPE)\n",
    "\n",
    "gpe_opec_counts = {}\n",
    "for doc in reuters_nlp:\n",
    "    if 'opec' in doc.text.lower():\n",
    "        for ent in doc.ents:\n",
    "            if ent.label_ == 'GPE':\n",
    "                gpe_text = ent.text.lower()\n",
    "                gpe_opec_counts[gpe_text] = gpe_opec_counts.get(gpe_text, 0) + 1\n",
    "\n",
    "\n",
    "sort_PMI = sorted(gpe_opec_counts.items(), key = lambda x: x[1], reverse = True)\n",
    "top50_PMI = sort_PMI[:50]\n",
    "for entity, freq in top50_PMI:\n",
    "    print(entity)"
   ]
  },
  {
   "cell_type": "markdown",
   "metadata": {},
   "source": [
    "Your text answer (for this question, your answer is *not* code): \n",
    "\n",
    "\n",
    "Entities like 'u.s.', 'saudi arabia', 'kuwait', 'venezuela', 'iran', 'nigeria', 'qatar' are unsurprising, since these are the countries or areas that close to OPEC.\n",
    "\n",
    "But entities like 'london', 'tokyo', 'Japan', 'sweden' and 'west germany' are a little bit unexpected since they are not largely impacted by oil price or OPEC, and do not have a relative big speak power about international oil stuff. But it can be explained that these countries or areas are all big contributors to the global economics and opec is also connected close with the topic. So they show up together cause they are all related to the third topic like 'global economics' not cuz they are related to each other directly "
   ]
  },
  {
   "cell_type": "markdown",
   "metadata": {},
   "source": [
    "### [Problem 3] Questionnaire [5 pts]\n",
    "\n",
    "Please provide feedback! To receive the 5 points, be sure to enter your Andrew ID correctly in this Google form: https://forms.gle/uYkQuh56s3LoiAFC9"
   ]
  }
 ],
 "metadata": {
  "anaconda-cloud": {},
  "kernelspec": {
   "display_name": "Python 3",
   "language": "python",
   "name": "python3"
  },
  "language_info": {
   "codemirror_mode": {
    "name": "ipython",
    "version": 3
   },
   "file_extension": ".py",
   "mimetype": "text/x-python",
   "name": "python",
   "nbconvert_exporter": "python",
   "pygments_lexer": "ipython3",
   "version": "3.8.8"
  }
 },
 "nbformat": 4,
 "nbformat_minor": 2
}
